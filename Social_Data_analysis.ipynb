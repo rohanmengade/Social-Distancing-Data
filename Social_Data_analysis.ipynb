{
 "cells": [
  {
   "cell_type": "code",
   "execution_count": 148,
   "metadata": {},
   "outputs": [],
   "source": [
    "import pandas as pd\n",
    "import numpy as np\n",
    "import seaborn as sns\n",
    "import matplotlib as plt\n",
    "%matplotlib inline"
   ]
  },
  {
   "cell_type": "code",
   "execution_count": 138,
   "metadata": {},
   "outputs": [],
   "source": [
    "data = pd.read_excel(\"Social_Distancing_and_Enforcement__Parks_Patrol_Data.xlsx\")"
   ]
  },
  {
   "cell_type": "code",
   "execution_count": 139,
   "metadata": {
    "scrolled": true
   },
   "outputs": [
    {
     "data": {
      "text/html": [
       "<div>\n",
       "<style scoped>\n",
       "    .dataframe tbody tr th:only-of-type {\n",
       "        vertical-align: middle;\n",
       "    }\n",
       "\n",
       "    .dataframe tbody tr th {\n",
       "        vertical-align: top;\n",
       "    }\n",
       "\n",
       "    .dataframe thead th {\n",
       "        text-align: right;\n",
       "    }\n",
       "</style>\n",
       "<table border=\"1\" class=\"dataframe\">\n",
       "  <thead>\n",
       "    <tr style=\"text-align: right;\">\n",
       "      <th></th>\n",
       "      <th>encounter_datetime</th>\n",
       "      <th>park_area_id</th>\n",
       "      <th>park_division</th>\n",
       "      <th>visit_reason</th>\n",
       "      <th>patrol_method</th>\n",
       "      <th>encounter_type</th>\n",
       "      <th>simplified_encounter_type</th>\n",
       "      <th>closed_amenity</th>\n",
       "      <th>closed_patroncount</th>\n",
       "      <th>closed_education</th>\n",
       "      <th>...</th>\n",
       "      <th>sd_patronsnocomply</th>\n",
       "      <th>sd_amenity</th>\n",
       "      <th>sd_pdcontact</th>\n",
       "      <th>sd_outcome_spec</th>\n",
       "      <th>summonscount_a01</th>\n",
       "      <th>summonscount_a03</th>\n",
       "      <th>summonscount_a04</th>\n",
       "      <th>summonscount_a22</th>\n",
       "      <th>other_summonscount</th>\n",
       "      <th>park_borough</th>\n",
       "    </tr>\n",
       "  </thead>\n",
       "  <tbody>\n",
       "    <tr>\n",
       "      <th>0</th>\n",
       "      <td>2020-08-07 10:45:00</td>\n",
       "      <td>B025</td>\n",
       "      <td>PEP</td>\n",
       "      <td>NaN</td>\n",
       "      <td>NaN</td>\n",
       "      <td>No encounter with non-compliant patrons, the p...</td>\n",
       "      <td>No Encounter</td>\n",
       "      <td>NaN</td>\n",
       "      <td>NaN</td>\n",
       "      <td>NaN</td>\n",
       "      <td>...</td>\n",
       "      <td>NaN</td>\n",
       "      <td>NaN</td>\n",
       "      <td>NaN</td>\n",
       "      <td>NaN</td>\n",
       "      <td>NaN</td>\n",
       "      <td>NaN</td>\n",
       "      <td>NaN</td>\n",
       "      <td>NaN</td>\n",
       "      <td>NaN</td>\n",
       "      <td>Brooklyn</td>\n",
       "    </tr>\n",
       "    <tr>\n",
       "      <th>1</th>\n",
       "      <td>2020-08-07 11:08:00</td>\n",
       "      <td>R030</td>\n",
       "      <td>PEP</td>\n",
       "      <td>NaN</td>\n",
       "      <td>NaN</td>\n",
       "      <td>No encounter with non-compliant patrons, the p...</td>\n",
       "      <td>No Encounter</td>\n",
       "      <td>NaN</td>\n",
       "      <td>NaN</td>\n",
       "      <td>NaN</td>\n",
       "      <td>...</td>\n",
       "      <td>NaN</td>\n",
       "      <td>NaN</td>\n",
       "      <td>NaN</td>\n",
       "      <td>NaN</td>\n",
       "      <td>NaN</td>\n",
       "      <td>NaN</td>\n",
       "      <td>NaN</td>\n",
       "      <td>NaN</td>\n",
       "      <td>NaN</td>\n",
       "      <td>Staten Island</td>\n",
       "    </tr>\n",
       "    <tr>\n",
       "      <th>2</th>\n",
       "      <td>2020-08-07 10:44:00</td>\n",
       "      <td>R150</td>\n",
       "      <td>PEP</td>\n",
       "      <td>NaN</td>\n",
       "      <td>NaN</td>\n",
       "      <td>No encounter with non-compliant patrons, the p...</td>\n",
       "      <td>No Encounter</td>\n",
       "      <td>NaN</td>\n",
       "      <td>NaN</td>\n",
       "      <td>NaN</td>\n",
       "      <td>...</td>\n",
       "      <td>NaN</td>\n",
       "      <td>NaN</td>\n",
       "      <td>NaN</td>\n",
       "      <td>NaN</td>\n",
       "      <td>NaN</td>\n",
       "      <td>NaN</td>\n",
       "      <td>NaN</td>\n",
       "      <td>NaN</td>\n",
       "      <td>NaN</td>\n",
       "      <td>Staten Island</td>\n",
       "    </tr>\n",
       "    <tr>\n",
       "      <th>3</th>\n",
       "      <td>2020-08-07 10:25:00</td>\n",
       "      <td>B114</td>\n",
       "      <td>PEP</td>\n",
       "      <td>NaN</td>\n",
       "      <td>NaN</td>\n",
       "      <td>No encounter with non-compliant patrons, the p...</td>\n",
       "      <td>No Encounter</td>\n",
       "      <td>NaN</td>\n",
       "      <td>NaN</td>\n",
       "      <td>NaN</td>\n",
       "      <td>...</td>\n",
       "      <td>NaN</td>\n",
       "      <td>NaN</td>\n",
       "      <td>NaN</td>\n",
       "      <td>NaN</td>\n",
       "      <td>NaN</td>\n",
       "      <td>NaN</td>\n",
       "      <td>NaN</td>\n",
       "      <td>NaN</td>\n",
       "      <td>NaN</td>\n",
       "      <td>Brooklyn</td>\n",
       "    </tr>\n",
       "    <tr>\n",
       "      <th>4</th>\n",
       "      <td>2020-08-07 10:08:00</td>\n",
       "      <td>R109</td>\n",
       "      <td>PEP</td>\n",
       "      <td>NaN</td>\n",
       "      <td>NaN</td>\n",
       "      <td>No encounter with non-compliant patrons, the p...</td>\n",
       "      <td>No Encounter</td>\n",
       "      <td>NaN</td>\n",
       "      <td>NaN</td>\n",
       "      <td>NaN</td>\n",
       "      <td>...</td>\n",
       "      <td>NaN</td>\n",
       "      <td>NaN</td>\n",
       "      <td>NaN</td>\n",
       "      <td>NaN</td>\n",
       "      <td>NaN</td>\n",
       "      <td>NaN</td>\n",
       "      <td>NaN</td>\n",
       "      <td>NaN</td>\n",
       "      <td>NaN</td>\n",
       "      <td>Staten Island</td>\n",
       "    </tr>\n",
       "  </tbody>\n",
       "</table>\n",
       "<p>5 rows × 24 columns</p>\n",
       "</div>"
      ],
      "text/plain": [
       "    encounter_datetime park_area_id park_division visit_reason patrol_method  \\\n",
       "0  2020-08-07 10:45:00         B025           PEP          NaN           NaN   \n",
       "1  2020-08-07 11:08:00         R030           PEP          NaN           NaN   \n",
       "2  2020-08-07 10:44:00         R150           PEP          NaN           NaN   \n",
       "3  2020-08-07 10:25:00         B114           PEP          NaN           NaN   \n",
       "4  2020-08-07 10:08:00         R109           PEP          NaN           NaN   \n",
       "\n",
       "                                      encounter_type  \\\n",
       "0  No encounter with non-compliant patrons, the p...   \n",
       "1  No encounter with non-compliant patrons, the p...   \n",
       "2  No encounter with non-compliant patrons, the p...   \n",
       "3  No encounter with non-compliant patrons, the p...   \n",
       "4  No encounter with non-compliant patrons, the p...   \n",
       "\n",
       "  simplified_encounter_type closed_amenity  closed_patroncount  \\\n",
       "0              No Encounter            NaN                 NaN   \n",
       "1              No Encounter            NaN                 NaN   \n",
       "2              No Encounter            NaN                 NaN   \n",
       "3              No Encounter            NaN                 NaN   \n",
       "4              No Encounter            NaN                 NaN   \n",
       "\n",
       "  closed_education  ... sd_patronsnocomply sd_amenity sd_pdcontact  \\\n",
       "0              NaN  ...                NaN        NaN          NaN   \n",
       "1              NaN  ...                NaN        NaN          NaN   \n",
       "2              NaN  ...                NaN        NaN          NaN   \n",
       "3              NaN  ...                NaN        NaN          NaN   \n",
       "4              NaN  ...                NaN        NaN          NaN   \n",
       "\n",
       "   sd_outcome_spec  summonscount_a01 summonscount_a03 summonscount_a04  \\\n",
       "0              NaN               NaN              NaN              NaN   \n",
       "1              NaN               NaN              NaN              NaN   \n",
       "2              NaN               NaN              NaN              NaN   \n",
       "3              NaN               NaN              NaN              NaN   \n",
       "4              NaN               NaN              NaN              NaN   \n",
       "\n",
       "  summonscount_a22  other_summonscount   park_borough  \n",
       "0              NaN                 NaN       Brooklyn  \n",
       "1              NaN                 NaN  Staten Island  \n",
       "2              NaN                 NaN  Staten Island  \n",
       "3              NaN                 NaN       Brooklyn  \n",
       "4              NaN                 NaN  Staten Island  \n",
       "\n",
       "[5 rows x 24 columns]"
      ]
     },
     "execution_count": 139,
     "metadata": {},
     "output_type": "execute_result"
    }
   ],
   "source": [
    "data.head()"
   ]
  },
  {
   "cell_type": "code",
   "execution_count": 140,
   "metadata": {},
   "outputs": [
    {
     "data": {
      "text/plain": [
       "encounter_datetime             119\n",
       "park_area_id                    11\n",
       "park_division                    0\n",
       "visit_reason                 35774\n",
       "patrol_method                35774\n",
       "encounter_type                   1\n",
       "simplified_encounter_type        1\n",
       "closed_amenity               60817\n",
       "closed_patroncount           60819\n",
       "closed_education             60937\n",
       "closed_outcome               60937\n",
       "closed_pdcontact             61333\n",
       "closed_outcome_spec          63269\n",
       "sd_patronscomplied           59533\n",
       "sd_patronsnocomply           59532\n",
       "sd_amenity                   59532\n",
       "sd_pdcontact                 61154\n",
       "sd_outcome_spec              62016\n",
       "summonscount_a01             63303\n",
       "summonscount_a03             63303\n",
       "summonscount_a04             63303\n",
       "summonscount_a22             63304\n",
       "other_summonscount           63299\n",
       "park_borough                     1\n",
       "dtype: int64"
      ]
     },
     "execution_count": 140,
     "metadata": {},
     "output_type": "execute_result"
    }
   ],
   "source": [
    "data.isnull().sum()"
   ]
  },
  {
   "cell_type": "code",
   "execution_count": 141,
   "metadata": {},
   "outputs": [
    {
     "name": "stdout",
     "output_type": "stream",
     "text": [
      "<class 'pandas.core.frame.DataFrame'>\n",
      "RangeIndex: 63389 entries, 0 to 63388\n",
      "Data columns (total 24 columns):\n",
      " #   Column                     Non-Null Count  Dtype  \n",
      "---  ------                     --------------  -----  \n",
      " 0   encounter_datetime         63270 non-null  object \n",
      " 1   park_area_id               63378 non-null  object \n",
      " 2   park_division              63389 non-null  object \n",
      " 3   visit_reason               27615 non-null  object \n",
      " 4   patrol_method              27615 non-null  object \n",
      " 5   encounter_type             63388 non-null  object \n",
      " 6   simplified_encounter_type  63388 non-null  object \n",
      " 7   closed_amenity             2572 non-null   object \n",
      " 8   closed_patroncount         2570 non-null   float64\n",
      " 9   closed_education           2452 non-null   object \n",
      " 10  closed_outcome             2452 non-null   object \n",
      " 11  closed_pdcontact           2056 non-null   object \n",
      " 12  closed_outcome_spec        120 non-null    object \n",
      " 13  sd_patronscomplied         3856 non-null   float64\n",
      " 14  sd_patronsnocomply         3857 non-null   float64\n",
      " 15  sd_amenity                 3857 non-null   object \n",
      " 16  sd_pdcontact               2235 non-null   object \n",
      " 17  sd_outcome_spec            1373 non-null   object \n",
      " 18  summonscount_a01           86 non-null     float64\n",
      " 19  summonscount_a03           86 non-null     float64\n",
      " 20  summonscount_a04           86 non-null     float64\n",
      " 21  summonscount_a22           85 non-null     float64\n",
      " 22  other_summonscount         90 non-null     float64\n",
      " 23  park_borough               63388 non-null  object \n",
      "dtypes: float64(8), object(16)\n",
      "memory usage: 11.6+ MB\n"
     ]
    }
   ],
   "source": [
    "data.info()"
   ]
  },
  {
   "cell_type": "code",
   "execution_count": 142,
   "metadata": {},
   "outputs": [
    {
     "data": {
      "text/plain": [
       "(63389, 24)"
      ]
     },
     "execution_count": 142,
     "metadata": {},
     "output_type": "execute_result"
    }
   ],
   "source": [
    "data.shape"
   ]
  },
  {
   "cell_type": "code",
   "execution_count": 143,
   "metadata": {},
   "outputs": [
    {
     "data": {
      "text/plain": [
       "Standard Patrol    24561\n",
       "Fixed Post          2136\n",
       "Complaint            733\n",
       "Dispatch             185\n",
       "Name: visit_reason, dtype: int64"
      ]
     },
     "execution_count": 143,
     "metadata": {},
     "output_type": "execute_result"
    }
   ],
   "source": [
    "data[\"visit_reason\"].value_counts()"
   ]
  },
  {
   "cell_type": "code",
   "execution_count": 144,
   "metadata": {},
   "outputs": [
    {
     "data": {
      "text/plain": [
       "No encounter with non-compliant patrons, the park was NOT CROWDED        30252\n",
       "No encounter                                                             22681\n",
       "No encounter with non-complaint patrons, but the park was CROWDED         4021\n",
       "Yes, patrons educated on social distancing (not trespassing)              3859\n",
       "Yes, patrons who trespassed/violated rules                                2452\n",
       "Yes, patrons who trespassed                                                120\n",
       "No encounter with non-compliant patrons, but the park was NOT CROWDED        3\n",
       "Name: encounter_type, dtype: int64"
      ]
     },
     "execution_count": 144,
     "metadata": {},
     "output_type": "execute_result"
    }
   ],
   "source": [
    "data[\"encounter_type\"].value_counts()\n"
   ]
  },
  {
   "cell_type": "code",
   "execution_count": 145,
   "metadata": {},
   "outputs": [
    {
     "data": {
      "text/plain": [
       "No Encounter              56957\n",
       "Social Distancing          3859\n",
       "Patrons in Closed Area     2572\n",
       "Name: simplified_encounter_type, dtype: int64"
      ]
     },
     "execution_count": 145,
     "metadata": {},
     "output_type": "execute_result"
    }
   ],
   "source": [
    "data[\"simplified_encounter_type\"].value_counts()"
   ]
  },
  {
   "cell_type": "code",
   "execution_count": 155,
   "metadata": {},
   "outputs": [
    {
     "data": {
      "text/plain": [
       "<matplotlib.axes._subplots.AxesSubplot at 0x1a95b506630>"
      ]
     },
     "execution_count": 155,
     "metadata": {},
     "output_type": "execute_result"
    },
    {
     "data": {
      "image/png": "[encoded data removed]",
      "text/plain": [
       "<Figure size 432x288 with 1 Axes>"
      ]
     },
     "metadata": {
      "needs_background": "light"
     },
     "output_type": "display_data"
    }
   ],
   "source": [
    "data[\"simplified_encounter_type\"].value_counts().head(10).plot(kind=\"bar\")"
   ]
  },
  {
   "cell_type": "code",
   "execution_count": 156,
   "metadata": {},
   "outputs": [
    {
     "data": {
      "text/plain": [
       "<matplotlib.axes._subplots.AxesSubplot at 0x1a95a5c0518>"
      ]
     },
     "execution_count": 156,
     "metadata": {},
     "output_type": "execute_result"
    },
    {
     "data": {
      "image/png": "[encoded data removed]",
      "text/plain": [
       "<Figure size 432x288 with 1 Axes>"
      ]
     },
     "metadata": {
      "needs_background": "light"
     },
     "output_type": "display_data"
    }
   ],
   "source": [
    "data[\"visit_reason\"].value_counts().plot(kind=\"bar\")"
   ]
  }
 ],
 "metadata": {
  "kernelspec": {
   "display_name": "Python 3",
   "language": "python",
   "name": "python3"
  },
  "language_info": {
   "codemirror_mode": {
    "name": "ipython",
    "version": 3
   },
   "file_extension": ".py",
   "mimetype": "text/x-python",
   "name": "python",
   "nbconvert_exporter": "python",
   "pygments_lexer": "ipython3",
   "version": "3.7.3"
  }
 },
 "nbformat": 4,
 "nbformat_minor": 4
}
